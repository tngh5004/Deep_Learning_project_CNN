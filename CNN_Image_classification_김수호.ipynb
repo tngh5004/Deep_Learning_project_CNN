{
  "nbformat": 4,
  "nbformat_minor": 0,
  "metadata": {
    "colab": {
      "name": "CNN_malaria_김수호.ipynb",
      "provenance": [],
      "collapsed_sections": [
        "T9DlqfRf9W0F"
      ]
    },
    "kernelspec": {
      "name": "python3",
      "display_name": "Python 3"
    },
    "language_info": {
      "name": "python"
    },
    "accelerator": "GPU"
  },
  "cells": [
    {
      "cell_type": "markdown",
      "metadata": {
        "id": "afZ3vYeh9bcE"
      },
      "source": [
        "# 딥러닝을 이용한 혈액검사"
      ]
    },
    {
      "cell_type": "markdown",
      "metadata": {
        "id": "JCSUusqb9iGR"
      },
      "source": [
        "# 0. 데이터셋 준비하기"
      ]
    },
    {
      "cell_type": "markdown",
      "metadata": {
        "id": "cZQP7HiXA9Mn"
      },
      "source": [
        "https://lhncbc.nlm.nih.gov/LHC-downloads/downloads.html#malaria-datasets  \n",
        "NIH에서 제공한 말라리아 혈액세포 데이터입니다."
      ]
    },
    {
      "cell_type": "markdown",
      "metadata": {
        "id": "iM7NhL4pJJjl"
      },
      "source": [
        "## Google Colab"
      ]
    },
    {
      "cell_type": "code",
      "metadata": {
        "id": "Iyyb6eG69Ztn"
      },
      "source": [
        "import os"
      ],
      "execution_count": null,
      "outputs": []
    },
    {
      "cell_type": "code",
      "metadata": {
        "colab": {
          "base_uri": "https://localhost:8080/"
        },
        "id": "EqF2B2OhEk2v",
        "outputId": "42714998-42f6-42f0-f325-0477fa551cb3"
      },
      "source": [
        "# 구글 드라이브 불러오기\n",
        "from google.colab import drive \n",
        "drive.mount('/content/drive')"
      ],
      "execution_count": null,
      "outputs": [
        {
          "output_type": "stream",
          "text": [
            "Mounted at /content/drive\n"
          ],
          "name": "stdout"
        }
      ]
    },
    {
      "cell_type": "code",
      "metadata": {
        "id": "Dg7MRomOFgoL"
      },
      "source": [
        "# !unzip path_to_file.zip -d path_to_directory\n",
        "# -u 명령어는 새로운 파일이나 파일이 필요할 경우에만 추출을 제어하는 코드입니다.\n",
        "# 연결이 끊어져도 사용할 수 있도록 해줍니다\n",
        "# -d 명령어는 압축을 푼 파일이 저장될곳을 지정합니다.\n",
        "#!unzip -u \"/content/drive/My Drive/cell_images.zip\" -d \"/content/drive/My Drive/cell_images\""
      ],
      "execution_count": null,
      "outputs": []
    },
    {
      "cell_type": "code",
      "metadata": {
        "id": "Ri8XFwJSEa5m"
      },
      "source": [
        "# 데이터 디렉토리\n",
        "data_dir = '/content/drive/My Drive/cell_images/cell_images'"
      ],
      "execution_count": null,
      "outputs": []
    },
    {
      "cell_type": "code",
      "metadata": {
        "colab": {
          "base_uri": "https://localhost:8080/"
        },
        "id": "3Rg1Lk55EYVI",
        "outputId": "01ac6ac1-95a8-4f39-febc-b4a9a11c64b1"
      },
      "source": [
        "# 데이터 디렉토리의 변수\n",
        "os.listdir(data_dir)"
      ],
      "execution_count": null,
      "outputs": [
        {
          "output_type": "execute_result",
          "data": {
            "text/plain": [
              "['test', 'train']"
            ]
          },
          "metadata": {
            "tags": []
          },
          "execution_count": 5
        }
      ]
    },
    {
      "cell_type": "markdown",
      "metadata": {
        "id": "4oapmNlpItIf"
      },
      "source": [
        "test 폴더와 train 폴더로 나눠져 있습니다."
      ]
    },
    {
      "cell_type": "code",
      "metadata": {
        "id": "2EVNGTY8IrVZ"
      },
      "source": [
        "import pandas as pd\n",
        "import numpy as np\n",
        "import seaborn as sns\n",
        "import matplotlib.pyplot as plt\n",
        "from matplotlib.image import imread # 이미지 파일을 직접 볼 수 있게 해줍니다."
      ],
      "execution_count": null,
      "outputs": []
    },
    {
      "cell_type": "code",
      "metadata": {
        "id": "f1-QwKKdI3gn"
      },
      "source": [
        "# 테스트셋과 트레인셋의 디렉토리 설정\n",
        "test_path = data_dir+'/test/'\n",
        "train_path = data_dir+'/train/'"
      ],
      "execution_count": null,
      "outputs": []
    },
    {
      "cell_type": "markdown",
      "metadata": {
        "id": "ZMp6Vwo1I69q"
      },
      "source": [
        "## 로컬환경에서 설정"
      ]
    },
    {
      "cell_type": "code",
      "metadata": {
        "id": "wjo48s07I4qS"
      },
      "source": [
        "# 데이터 디렉토리\n",
        "# cell_images.zip파일 압축 해제 후 폴더의 위치를 적으시면 됩니다.\n",
        "# data_dir = 'C:\\Users\\ksh\\Downloads\\cell_images'\n",
        "\n",
        "# 테스트셋과 트레인셋의 디렉토리 설정\n",
        "# test_path = data_dir+'\\\\test\\\\'\n",
        "# train_path = data_dir+'\\\\train\\\\'\n",
        "\n",
        "# 디렉토리 설정이후는 똑같습니다."
      ],
      "execution_count": null,
      "outputs": []
    },
    {
      "cell_type": "code",
      "metadata": {
        "colab": {
          "base_uri": "https://localhost:8080/",
          "height": 35
        },
        "id": "UE8gYVgPJSDt",
        "outputId": "87ef4b0b-b55d-4596-af7d-a2d6c270be92"
      },
      "source": [
        "test_path"
      ],
      "execution_count": null,
      "outputs": [
        {
          "output_type": "execute_result",
          "data": {
            "application/vnd.google.colaboratory.intrinsic+json": {
              "type": "string"
            },
            "text/plain": [
              "'/content/drive/My Drive/cell_images/cell_images/test/'"
            ]
          },
          "metadata": {
            "tags": []
          },
          "execution_count": 8
        }
      ]
    },
    {
      "cell_type": "code",
      "metadata": {
        "colab": {
          "base_uri": "https://localhost:8080/"
        },
        "id": "XQ5DMbSWJVPU",
        "outputId": "743797cc-428c-4ba1-f695-777b8f6f0132"
      },
      "source": [
        "# test셋 디렉토리의 변수\n",
        "os.listdir(test_path)"
      ],
      "execution_count": null,
      "outputs": [
        {
          "output_type": "execute_result",
          "data": {
            "text/plain": [
              "['parasitized', 'uninfected']"
            ]
          },
          "metadata": {
            "tags": []
          },
          "execution_count": 9
        }
      ]
    },
    {
      "cell_type": "code",
      "metadata": {
        "colab": {
          "base_uri": "https://localhost:8080/"
        },
        "id": "8hrhmZC9K2A5",
        "outputId": "e2f6913b-95dd-459b-e4c0-37bd34ee72b1"
      },
      "source": [
        "# train셋 디렉토리의 변수\n",
        "os.listdir(train_path)"
      ],
      "execution_count": null,
      "outputs": [
        {
          "output_type": "execute_result",
          "data": {
            "text/plain": [
              "['uninfected', 'parasitized']"
            ]
          },
          "metadata": {
            "tags": []
          },
          "execution_count": 10
        }
      ]
    },
    {
      "cell_type": "markdown",
      "metadata": {
        "id": "3kRTtsoyJ3Qs"
      },
      "source": [
        "감염된 혈액(parasitized)의 사진과 감염되지 않은 혈액 (uninfected)의 사진이 다른 폴더로 나뉘어 있습니다.  \n",
        "감염된 혈액의 사진 하나를 확인해보겠습니다."
      ]
    },
    {
      "cell_type": "code",
      "metadata": {
        "colab": {
          "base_uri": "https://localhost:8080/",
          "height": 35
        },
        "id": "-cyAe7lWKx_I",
        "outputId": "b2f9701d-c385-4fbe-c9b7-995c10a9ad15"
      },
      "source": [
        "os.listdir(train_path + 'parasitized')[0]"
      ],
      "execution_count": null,
      "outputs": [
        {
          "output_type": "execute_result",
          "data": {
            "application/vnd.google.colaboratory.intrinsic+json": {
              "type": "string"
            },
            "text/plain": [
              "'C97P58ThinF_IMG_20150917_145555_cell_188.png'"
            ]
          },
          "metadata": {
            "tags": []
          },
          "execution_count": 11
        }
      ]
    },
    {
      "cell_type": "code",
      "metadata": {
        "colab": {
          "base_uri": "https://localhost:8080/",
          "height": 35
        },
        "id": "IMoVBL8hLUlB",
        "outputId": "a85d90a7-5f72-4b59-fc78-519dce0b6ad3"
      },
      "source": [
        "para_cell = train_path + 'parasitized/' + 'C100P61ThinF_IMG_20150918_144104_cell_162.png'\n",
        "para_cell"
      ],
      "execution_count": null,
      "outputs": [
        {
          "output_type": "execute_result",
          "data": {
            "application/vnd.google.colaboratory.intrinsic+json": {
              "type": "string"
            },
            "text/plain": [
              "'/content/drive/My Drive/cell_images/cell_images/train/parasitized/C100P61ThinF_IMG_20150918_144104_cell_162.png'"
            ]
          },
          "metadata": {
            "tags": []
          },
          "execution_count": 12
        }
      ]
    },
    {
      "cell_type": "code",
      "metadata": {
        "colab": {
          "base_uri": "https://localhost:8080/"
        },
        "id": "AxC3uGAALqIc",
        "outputId": "1ad6f07c-764e-4b33-b9d8-79479b1dd1ff"
      },
      "source": [
        "imread(para_cell).shape # img는 3차원의 튜플, 148 * 142 이미지, rgb채널"
      ],
      "execution_count": null,
      "outputs": [
        {
          "output_type": "execute_result",
          "data": {
            "text/plain": [
              "(148, 142, 3)"
            ]
          },
          "metadata": {
            "tags": []
          },
          "execution_count": 13
        }
      ]
    },
    {
      "cell_type": "code",
      "metadata": {
        "colab": {
          "base_uri": "https://localhost:8080/",
          "height": 287
        },
        "id": "WZvjUu_QL3mB",
        "outputId": "1ea28372-edc9-4e04-ac16-9615202172e2"
      },
      "source": [
        "# plt.imshow를 통해 감염된 혈액세포의 이미지 직접보기\n",
        "para_img = imread(para_cell)\n",
        "plt.imshow(para_img)"
      ],
      "execution_count": null,
      "outputs": [
        {
          "output_type": "execute_result",
          "data": {
            "text/plain": [
              "<matplotlib.image.AxesImage at 0x7f081aa9c550>"
            ]
          },
          "metadata": {
            "tags": []
          },
          "execution_count": 14
        },
        {
          "output_type": "display_data",
          "data": {
            "image/png": "[encoded data removed]",
            "text/plain": [
              "<Figure size 432x288 with 1 Axes>"
            ]
          },
          "metadata": {
            "tags": [],
            "needs_background": "light"
          }
        }
      ]
    },
    {
      "cell_type": "code",
      "metadata": {
        "colab": {
          "base_uri": "https://localhost:8080/",
          "height": 35
        },
        "id": "EkqWDqqZM5BI",
        "outputId": "4dfa5274-620b-442f-fdf4-49af3e4cd48a"
      },
      "source": [
        "os.listdir(train_path + 'uninfected')[0]"
      ],
      "execution_count": null,
      "outputs": [
        {
          "output_type": "execute_result",
          "data": {
            "application/vnd.google.colaboratory.intrinsic+json": {
              "type": "string"
            },
            "text/plain": [
              "'C76P37ThinF_IMG_20150815_172808_cell_155.png'"
            ]
          },
          "metadata": {
            "tags": []
          },
          "execution_count": 15
        }
      ]
    },
    {
      "cell_type": "code",
      "metadata": {
        "colab": {
          "base_uri": "https://localhost:8080/",
          "height": 53
        },
        "id": "JHJ9wslqM95e",
        "outputId": "d21961cf-8671-4b0d-998f-3717a46fb8dc"
      },
      "source": [
        "uninfect_cell = train_path + 'uninfected/' + 'C100P61ThinF_IMG_20150918_144104_cell_128.png'\n",
        "uninfect_cell"
      ],
      "execution_count": null,
      "outputs": [
        {
          "output_type": "execute_result",
          "data": {
            "application/vnd.google.colaboratory.intrinsic+json": {
              "type": "string"
            },
            "text/plain": [
              "'/content/drive/My Drive/cell_images/cell_images/train/uninfected/C100P61ThinF_IMG_20150918_144104_cell_128.png'"
            ]
          },
          "metadata": {
            "tags": []
          },
          "execution_count": 16
        }
      ]
    },
    {
      "cell_type": "code",
      "metadata": {
        "colab": {
          "base_uri": "https://localhost:8080/",
          "height": 287
        },
        "id": "R-1OgEp7NJtV",
        "outputId": "6828b564-0ade-42fa-8988-90eac96dba52"
      },
      "source": [
        "plt.imshow(imread(uninfect_cell))"
      ],
      "execution_count": null,
      "outputs": [
        {
          "output_type": "execute_result",
          "data": {
            "text/plain": [
              "<matplotlib.image.AxesImage at 0x7f081a9d0b90>"
            ]
          },
          "metadata": {
            "tags": []
          },
          "execution_count": 17
        },
        {
          "output_type": "display_data",
          "data": {
            "image/png": "[encoded data removed]",
            "text/plain": [
              "<Figure size 432x288 with 1 Axes>"
            ]
          },
          "metadata": {
            "tags": [],
            "needs_background": "light"
          }
        }
      ]
    },
    {
      "cell_type": "markdown",
      "metadata": {
        "id": "aKLvyQoxMEY8"
      },
      "source": [
        "정상 혈액과 감염된 혈액의 이미지를 확인해본 결과  \n",
        "중앙에 보이는 작고 어두운부분으로 감염여부를 확인할 수 있는것 같습니다."
      ]
    },
    {
      "cell_type": "markdown",
      "metadata": {
        "id": "uLZp-7mhO6ba"
      },
      "source": [
        "#1. 데이터 전처리"
      ]
    },
    {
      "cell_type": "code",
      "metadata": {
        "id": "CUVRfED_GuyU"
      },
      "source": [
        "# tensorflow global random seed 설정\n",
        "import tensorflow as tf\n",
        "tf.random.set_seed(3)\n",
        "\n",
        "import random\n",
        "random.seed(3)"
      ],
      "execution_count": null,
      "outputs": []
    },
    {
      "cell_type": "code",
      "metadata": {
        "colab": {
          "base_uri": "https://localhost:8080/"
        },
        "id": "W_jZ2IAfNdsV",
        "outputId": "88dfc87c-ce7a-4103-8bc2-b30ad2772264"
      },
      "source": [
        "print(len(os.listdir(train_path + 'parasitized')))\n",
        "print(len(os.listdir(train_path + 'uninfected')))\n",
        "print(len(os.listdir(test_path + 'parasitized')))\n",
        "print(len(os.listdir(test_path + 'uninfected')))"
      ],
      "execution_count": null,
      "outputs": [
        {
          "output_type": "stream",
          "text": [
            "12480\n",
            "12480\n",
            "1300\n",
            "1300\n"
          ],
          "name": "stdout"
        }
      ]
    },
    {
      "cell_type": "markdown",
      "metadata": {
        "id": "-GkD2qILPSCi"
      },
      "source": [
        "데이터셋은 클래스별로 12480개, 훈련데이터셋은 클래스 별로 1300개 입니다.  \n",
        "두 클래스가 균형을 유지하고 있으므로 따로 가중치를 둘 필요는 없어보입니다."
      ]
    },
    {
      "cell_type": "markdown",
      "metadata": {
        "id": "MPRvbc7HWsgv"
      },
      "source": [
        "데이터셋 이미지(테스트셋 비감염자 혈액세포)들의 크기를 확인해보겠습니다."
      ]
    },
    {
      "cell_type": "code",
      "metadata": {
        "id": "cVEPqT1MU6DN"
      },
      "source": [
        "dim1 = []\n",
        "dim2 = []\n",
        "\n",
        "for image_filename in os.listdir(test_path + 'uninfected'):\n",
        "  img = imread(test_path + 'uninfected/'+image_filename) # img는 3차원의 튜플\n",
        "  d1, d2, colors = img.shape\n",
        "  dim1.append(d1)\n",
        "  dim2.append(d2)"
      ],
      "execution_count": null,
      "outputs": []
    },
    {
      "cell_type": "code",
      "metadata": {
        "colab": {
          "base_uri": "https://localhost:8080/",
          "height": 515
        },
        "id": "hn8MJ09rWW6L",
        "outputId": "2877bd53-c2ee-41c7-9eeb-b38562d5f44f"
      },
      "source": [
        "sns.jointplot(dim1,dim2)"
      ],
      "execution_count": null,
      "outputs": [
        {
          "output_type": "stream",
          "text": [
            "/usr/local/lib/python3.7/dist-packages/seaborn/_decorators.py:43: FutureWarning: Pass the following variables as keyword args: x, y. From version 0.12, the only valid positional argument will be `data`, and passing other arguments without an explicit keyword will result in an error or misinterpretation.\n",
            "  FutureWarning\n"
          ],
          "name": "stderr"
        },
        {
          "output_type": "execute_result",
          "data": {
            "text/plain": [
              "<seaborn.axisgrid.JointGrid at 0x7f07e6bfb090>"
            ]
          },
          "metadata": {
            "tags": []
          },
          "execution_count": 21
        },
        {
          "output_type": "display_data",
          "data": {
            "image/png": "[encoded data removed]",
            "text/plain": [
              "<Figure size 432x432 with 3 Axes>"
            ]
          },
          "metadata": {
            "tags": [],
            "needs_background": "light"
          }
        }
      ]
    },
    {
      "cell_type": "markdown",
      "metadata": {
        "id": "4K7IGsq0W68c"
      },
      "source": [
        "데이터셋은 0 ~ 255사이의 크기의 이미지 파일로 똑같은 크기가 아니라 다양한 크기로 이루어져 있기 때문에  \n",
        "이미지 사이즈를 똑같이 만들어주는 전처리과정이 필요합니다."
      ]
    },
    {
      "cell_type": "code",
      "metadata": {
        "colab": {
          "base_uri": "https://localhost:8080/"
        },
        "id": "fk6DIFEpXzct",
        "outputId": "f0dffb3b-cac3-4c17-c95e-5f7c39a03132"
      },
      "source": [
        "print(np.mean(dim1))\n",
        "print(np.mean(dim2))"
      ],
      "execution_count": null,
      "outputs": [
        {
          "output_type": "stream",
          "text": [
            "130.92538461538462\n"
          ],
          "name": "stdout"
        },
        {
          "output_type": "execute_result",
          "data": {
            "text/plain": [
              "130.75"
            ]
          },
          "metadata": {
            "tags": []
          },
          "execution_count": 22
        }
      ]
    },
    {
      "cell_type": "markdown",
      "metadata": {
        "id": "1P53HIz4X7Xv"
      },
      "source": [
        "너비와 높이를 확인해본결과 데이터셋을 이루는 이미지의 평균 사이즈는 130*130 이므로\n",
        "\n",
        "이 사이즈에 맞춰서 전처리해주겠습니다. "
      ]
    },
    {
      "cell_type": "code",
      "metadata": {
        "id": "iAyUvWOs7Gdt"
      },
      "source": [
        "# 이미지 사이즈 고정, 이후 모델 input_shape로 설정\n",
        "image_shape = (130,130,3)"
      ],
      "execution_count": null,
      "outputs": []
    },
    {
      "cell_type": "code",
      "metadata": {
        "colab": {
          "base_uri": "https://localhost:8080/"
        },
        "id": "bkqcZDS2iUaO",
        "outputId": "3e3c447c-bd63-4729-8fdf-b9d3ebda197e"
      },
      "source": [
        "imread(para_cell)"
      ],
      "execution_count": null,
      "outputs": [
        {
          "output_type": "execute_result",
          "data": {
            "text/plain": [
              "array([[[0., 0., 0.],\n",
              "        [0., 0., 0.],\n",
              "        [0., 0., 0.],\n",
              "        ...,\n",
              "        [0., 0., 0.],\n",
              "        [0., 0., 0.],\n",
              "        [0., 0., 0.]],\n",
              "\n",
              "       [[0., 0., 0.],\n",
              "        [0., 0., 0.],\n",
              "        [0., 0., 0.],\n",
              "        ...,\n",
              "        [0., 0., 0.],\n",
              "        [0., 0., 0.],\n",
              "        [0., 0., 0.]],\n",
              "\n",
              "       [[0., 0., 0.],\n",
              "        [0., 0., 0.],\n",
              "        [0., 0., 0.],\n",
              "        ...,\n",
              "        [0., 0., 0.],\n",
              "        [0., 0., 0.],\n",
              "        [0., 0., 0.]],\n",
              "\n",
              "       ...,\n",
              "\n",
              "       [[0., 0., 0.],\n",
              "        [0., 0., 0.],\n",
              "        [0., 0., 0.],\n",
              "        ...,\n",
              "        [0., 0., 0.],\n",
              "        [0., 0., 0.],\n",
              "        [0., 0., 0.]],\n",
              "\n",
              "       [[0., 0., 0.],\n",
              "        [0., 0., 0.],\n",
              "        [0., 0., 0.],\n",
              "        ...,\n",
              "        [0., 0., 0.],\n",
              "        [0., 0., 0.],\n",
              "        [0., 0., 0.]],\n",
              "\n",
              "       [[0., 0., 0.],\n",
              "        [0., 0., 0.],\n",
              "        [0., 0., 0.],\n",
              "        ...,\n",
              "        [0., 0., 0.],\n",
              "        [0., 0., 0.],\n",
              "        [0., 0., 0.]]], dtype=float32)"
            ]
          },
          "metadata": {
            "tags": []
          },
          "execution_count": 24
        }
      ]
    },
    {
      "cell_type": "code",
      "metadata": {
        "colab": {
          "base_uri": "https://localhost:8080/"
        },
        "id": "MrFq-h6xg6cZ",
        "outputId": "b291f541-8d52-4879-9ae1-7771b5c3059e"
      },
      "source": [
        "print(imread(para_cell).max())\n",
        "print(imread(para_cell).min())"
      ],
      "execution_count": null,
      "outputs": [
        {
          "output_type": "stream",
          "text": [
            "0.9098039\n",
            "0.0\n"
          ],
          "name": "stdout"
        }
      ]
    },
    {
      "cell_type": "markdown",
      "metadata": {
        "id": "bTVDLjXxiXEj"
      },
      "source": [
        "이미지의 크기(영역)는 0~255로 다양해서 resize는 필요했지만,\n",
        "\n",
        "이미지의 픽셀은 0~1사이로 정규화 되어있으므로 normalizing은 필요하지 않습니다.\n",
        "\n"
      ]
    },
    {
      "cell_type": "markdown",
      "metadata": {
        "id": "0h1kw6utntVM"
      },
      "source": [
        "하지만 우리가 가진 데이터셋의 이미지는 30000개 미만이고, 감염여부로 나뉜 train set은 12000개입니다.  \n",
        "모델이 학습하기에는 부족한 데이터 수이므로 Image Manipulation을 해주겠습니다."
      ]
    },
    {
      "cell_type": "markdown",
      "metadata": {
        "id": "zepNO85skAjA"
      },
      "source": [
        "## Image augmentation"
      ]
    },
    {
      "cell_type": "markdown",
      "metadata": {
        "id": "x5kXQ4F4of36"
      },
      "source": [
        "회전, 이동, 변형, 확대, 축소 뒤집기 등을 통해서 데이터의 수를 늘려주는 작업입니다.  \n",
        "아래는 imageDataGenerator의 각 파라미터에 대한 설명을 이미지로 나타낸 사이트입니다.  \n",
        "https://tykimos.github.io/2017/06/10/CNN_Data_Augmentation/"
      ]
    },
    {
      "cell_type": "code",
      "metadata": {
        "id": "TeihfYV2ZHdq"
      },
      "source": [
        "# Image Manipulation를 위해 keras 내장함수 ImageDataGenerator를 사용하겠습니다.\n",
        "# https://www.tensorflow.org/api_docs/python/tf/keras/preprocessing/image/ImageDataGenerator\n",
        "from tensorflow.keras.preprocessing.image import ImageDataGenerator\n",
        "image_gen = ImageDataGenerator()"
      ],
      "execution_count": null,
      "outputs": []
    },
    {
      "cell_type": "code",
      "metadata": {
        "id": "9QJmGlovZMQR"
      },
      "source": [
        "# 아래 모든값들은 최대를 뜻하는데 width_shift_range=0.10 인경우 0~10% 내외로 변경한다는걸 의미합니다.\n",
        "image_gen = ImageDataGenerator(rotation_range=20, # 이미지를 최대 20도 만큼 회전 \n",
        "                               width_shift_range=0.10, # 최대 10% 너비 변경 \n",
        "                               height_shift_range=0.10, # 최대 10% 높이 변경\n",
        "                               # rescale=1/255, # 이미지 정규화 \n",
        "                               shear_range=0.1, # 반시계 방향으로 층을 밀어줍니다.(그림으로 확인)\n",
        "                               zoom_range=0.1, # 최대 10% 확대합니다.\n",
        "                               horizontal_flip=True, # 인풋을 무작위로 가로로 뒤집습니다.\n",
        "                               fill_mode='nearest' # 빈 픽셀을 가장 가까운 픽셀값으로 채웁니다.\n",
        "                              )"
      ],
      "execution_count": null,
      "outputs": []
    },
    {
      "cell_type": "markdown",
      "metadata": {
        "id": "LC3noxFVpqTX"
      },
      "source": [
        "![image.png](data:image/png;base64,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)"
      ]
    },
    {
      "cell_type": "markdown",
      "metadata": {
        "id": "xxhZCze9sXWT"
      },
      "source": [
        "ImageDataGenerator는 batch size만큼 데이터를 만들어냅니다.\n",
        "\n",
        "예를 들어 batch size가 32인 경우 한 이미지를 파라미터의 조건에 따라 32개의 이미지로 만들어냅니다.\n",
        "\n",
        "이미지 데이터는 다른 텍스트 데이터에 비해 많은양을 보유하기 힘듭니다.﻿\n",
        "\n",
        "\n",
        "\n",
        "그래서 Image augmentation으로 이미지의 양을 늘려서 모델이 충분한 학습을 하게 해줍니다."
      ]
    },
    {
      "cell_type": "code",
      "metadata": {
        "colab": {
          "base_uri": "https://localhost:8080/",
          "height": 287
        },
        "id": "iLFQtE1MyfPO",
        "outputId": "d979c23c-57a5-455c-add6-2c408cb59819"
      },
      "source": [
        "# 감염된 혈액세포 이미지의 원본\n",
        "plt.imshow(para_img) # para_img = imread(para_cell)"
      ],
      "execution_count": null,
      "outputs": [
        {
          "output_type": "execute_result",
          "data": {
            "text/plain": [
              "<matplotlib.image.AxesImage at 0x7f07dc811f90>"
            ]
          },
          "metadata": {
            "tags": []
          },
          "execution_count": 28
        },
        {
          "output_type": "display_data",
          "data": {
            "image/png": "[encoded data removed]",
            "text/plain": [
              "<Figure size 432x288 with 1 Axes>"
            ]
          },
          "metadata": {
            "tags": [],
            "needs_background": "light"
          }
        }
      ]
    },
    {
      "cell_type": "code",
      "metadata": {
        "colab": {
          "base_uri": "https://localhost:8080/",
          "height": 287
        },
        "id": "CJpjaLJGy0Ng",
        "outputId": "e4ab10ce-34ab-4745-8368-fed6d69c2386"
      },
      "source": [
        "# ImageDataGenerator()를 거친 이미지\n",
        "plt.imshow(image_gen.random_transform(para_img))"
      ],
      "execution_count": null,
      "outputs": [
        {
          "output_type": "execute_result",
          "data": {
            "text/plain": [
              "<matplotlib.image.AxesImage at 0x7f07dc7fe650>"
            ]
          },
          "metadata": {
            "tags": []
          },
          "execution_count": 29
        },
        {
          "output_type": "display_data",
          "data": {
            "image/png": "[encoded data removed]",
            "text/plain": [
              "<Figure size 432x288 with 1 Axes>"
            ]
          },
          "metadata": {
            "tags": [],
            "needs_background": "light"
          }
        }
      ]
    },
    {
      "cell_type": "markdown",
      "metadata": {
        "id": "9Cuy3CQcza6y"
      },
      "source": [
        "툭 튀어나온 기둥같은 모양은 ImageDataGenerator를 거치면서 이미지가 변형되는 과정속에서 이미지가 뻗어 나갔고,  fill_mode를 통해 주변 이미지가 채워진것입니다."
      ]
    },
    {
      "cell_type": "markdown",
      "metadata": {
        "id": "r05tRXBRzytM"
      },
      "source": [
        "이제 모든 데이터셋을 ImageDataGenerator를 통해 늘려보겠습니다."
      ]
    },
    {
      "cell_type": "code",
      "metadata": {
        "colab": {
          "base_uri": "https://localhost:8080/",
          "height": 35
        },
        "id": "Q9i7XDha0Dkm",
        "outputId": "e7bb7ff6-90eb-4745-d041-5be743a577c5"
      },
      "source": [
        "train_path"
      ],
      "execution_count": null,
      "outputs": [
        {
          "output_type": "execute_result",
          "data": {
            "application/vnd.google.colaboratory.intrinsic+json": {
              "type": "string"
            },
            "text/plain": [
              "'/content/drive/My Drive/cell_images/cell_images/train/'"
            ]
          },
          "metadata": {
            "tags": []
          },
          "execution_count": 30
        }
      ]
    },
    {
      "cell_type": "code",
      "metadata": {
        "colab": {
          "base_uri": "https://localhost:8080/"
        },
        "id": "nVIdbUa0z27Y",
        "outputId": "487c2002-66c8-4eb6-d2f0-8bbb22fa1995"
      },
      "source": [
        "# train 폴더에 있는 이미지들을 모두 ImageDataGenerator를 통해 이미지 변형을 해주겠습니다.\n",
        "image_gen.flow_from_directory(train_path)"
      ],
      "execution_count": null,
      "outputs": [
        {
          "output_type": "stream",
          "text": [
            "Found 24958 images belonging to 2 classes.\n"
          ],
          "name": "stdout"
        },
        {
          "output_type": "execute_result",
          "data": {
            "text/plain": [
              "<tensorflow.python.keras.preprocessing.image.DirectoryIterator at 0x7f07dc7b7450>"
            ]
          },
          "metadata": {
            "tags": []
          },
          "execution_count": 31
        }
      ]
    },
    {
      "cell_type": "code",
      "metadata": {
        "colab": {
          "base_uri": "https://localhost:8080/"
        },
        "id": "pxDWqbFP261G",
        "outputId": "f406cc6b-18fa-46b3-b5a3-6215d139e850"
      },
      "source": [
        "image_gen.flow_from_directory(test_path)"
      ],
      "execution_count": null,
      "outputs": [
        {
          "output_type": "stream",
          "text": [
            "Found 2600 images belonging to 2 classes.\n"
          ],
          "name": "stdout"
        },
        {
          "output_type": "execute_result",
          "data": {
            "text/plain": [
              "<tensorflow.python.keras.preprocessing.image.DirectoryIterator at 0x7f07dc7a5f90>"
            ]
          },
          "metadata": {
            "tags": []
          },
          "execution_count": 32
        }
      ]
    },
    {
      "cell_type": "markdown",
      "metadata": {
        "id": "Fz8LktyJ1J-t"
      },
      "source": [
        "Found 24958 images belonging to 2 classes의 의미는 우리가 사용하는 train set폴더 안에서  \n",
        "'parasitized', 'uninfected' 폴더로 나누어져 있기 때문에 정상적으로 작동했다고 이해하시면 됩니다.  \n",
        "(만약 5가지 class로 나뉘어 있다면 images belonging to 5 classes 라는 문구가 떠야됩니다.)"
      ]
    },
    {
      "cell_type": "markdown",
      "metadata": {
        "id": "Vv69TAr-3CUg"
      },
      "source": [
        "#2. 모델 생성"
      ]
    },
    {
      "cell_type": "code",
      "metadata": {
        "id": "gi3bY2jj0MbV"
      },
      "source": [
        "from tensorflow.keras.models import Sequential\n",
        "from tensorflow.keras.layers import Activation, Dropout, Flatten, Dense, Conv2D, MaxPooling2D"
      ],
      "execution_count": null,
      "outputs": []
    },
    {
      "cell_type": "code",
      "metadata": {
        "id": "KcZYIH8n6wQc"
      },
      "source": [
        "model = Sequential()\n",
        "\n",
        "model.add(Conv2D(filters=32, kernel_size=(3,3),input_shape=image_shape, activation='relu')) # image_shape = (130,130,3)\n",
        "model.add(MaxPooling2D(pool_size=(2, 2)))\n",
        "\n",
        "model.add(Conv2D(filters=64, kernel_size=(3,3),input_shape=image_shape, activation='relu'))\n",
        "model.add(MaxPooling2D(pool_size=(2, 2)))\n",
        "\n",
        "model.add(Conv2D(filters=64, kernel_size=(3,3),input_shape=image_shape, activation='relu'))\n",
        "model.add(MaxPooling2D(pool_size=(2, 2)))\n",
        "\n",
        "model.add(Flatten())\n",
        "\n",
        "model.add(Dense(128, activation='relu'))\n",
        "\n",
        "# 학습중 과적합을 줄여주는 dropout 추가, dropout은 무작위로 뉴런의 일부를 사용하지 않는 기능을 합니다.\n",
        "model.add(Dropout(0.5)) # 랜덤하게 50%의 뉴런을 사용하지 않습니다.\n",
        "\n",
        "# 이진분류 모델이기 때문에 Dense = 1이고, sigmoid 함수를 마지막 아웃풋 레이어에 사용합니다.\n",
        "model.add(Dense(1, activation='sigmoid'))"
      ],
      "execution_count": null,
      "outputs": []
    },
    {
      "cell_type": "code",
      "metadata": {
        "id": "Oh-dmASwArIf"
      },
      "source": [
        "model.compile(loss='binary_crossentropy',\n",
        "              optimizer='adam',\n",
        "              metrics=['accuracy'])"
      ],
      "execution_count": null,
      "outputs": []
    },
    {
      "cell_type": "code",
      "metadata": {
        "colab": {
          "base_uri": "https://localhost:8080/"
        },
        "id": "HiorGG3WAvjA",
        "outputId": "ea963895-e60f-43e9-b833-8474e1e7f4f7"
      },
      "source": [
        "model.summary()"
      ],
      "execution_count": null,
      "outputs": [
        {
          "output_type": "stream",
          "text": [
            "Model: \"sequential\"\n",
            "_________________________________________________________________\n",
            "Layer (type)                 Output Shape              Param #   \n",
            "=================================================================\n",
            "conv2d (Conv2D)              (None, 128, 128, 32)      896       \n",
            "_________________________________________________________________\n",
            "max_pooling2d (MaxPooling2D) (None, 64, 64, 32)        0         \n",
            "_________________________________________________________________\n",
            "conv2d_1 (Conv2D)            (None, 62, 62, 64)        18496     \n",
            "_________________________________________________________________\n",
            "max_pooling2d_1 (MaxPooling2 (None, 31, 31, 64)        0         \n",
            "_________________________________________________________________\n",
            "conv2d_2 (Conv2D)            (None, 29, 29, 64)        36928     \n",
            "_________________________________________________________________\n",
            "max_pooling2d_2 (MaxPooling2 (None, 14, 14, 64)        0         \n",
            "_________________________________________________________________\n",
            "flatten (Flatten)            (None, 12544)             0         \n",
            "_________________________________________________________________\n",
            "dense (Dense)                (None, 128)               1605760   \n",
            "_________________________________________________________________\n",
            "dropout (Dropout)            (None, 128)               0         \n",
            "_________________________________________________________________\n",
            "dense_1 (Dense)              (None, 1)                 129       \n",
            "=================================================================\n",
            "Total params: 1,662,209\n",
            "Trainable params: 1,662,209\n",
            "Non-trainable params: 0\n",
            "_________________________________________________________________\n"
          ],
          "name": "stdout"
        }
      ]
    },
    {
      "cell_type": "markdown",
      "metadata": {
        "id": "FHDC8BDaByDr"
      },
      "source": [
        "Early Stopping"
      ]
    },
    {
      "cell_type": "code",
      "metadata": {
        "id": "kK2n2bsVBxKk"
      },
      "source": [
        "from tensorflow.keras.callbacks import EarlyStopping, ModelCheckpoint\n",
        "# patience 는 성능이 증가하지 않는 epoch 을 몇 번이나 허용할 것인가를 정의한다.\n",
        "early_stop = EarlyStopping(monitor='val_loss', mode='min', patience=2)"
      ],
      "execution_count": null,
      "outputs": []
    },
    {
      "cell_type": "code",
      "metadata": {
        "id": "NRHTDjeXDimk"
      },
      "source": [
        "# 로컬에서도 돌려보기 위해서 배치사이즈를 크게 설정햇고, colab에서는 tpu가 8코어이기 때문에 배치사이즈를 8의 배수로 설정하는게 일반적이라고 합니다.\n",
        "# 훈련 데이터 수가 클래스당 12000개이니 배치 크기를 256으로 지정하여 \n",
        "# 49번 배치(총 98번)를 수행하면 하나의 epoch가 수행될 수 있도록 하였습니다.\n",
        "\n",
        "batch_size = 256"
      ],
      "execution_count": null,
      "outputs": []
    },
    {
      "cell_type": "code",
      "metadata": {
        "colab": {
          "base_uri": "https://localhost:8080/"
        },
        "id": "mjeaeTAeD22z",
        "outputId": "ed1c092d-9dcd-40b9-a0c0-7946181e9983"
      },
      "source": [
        "train_image_gen = image_gen.flow_from_directory(train_path,\n",
        "                                                target_size=image_shape[:2],\n",
        "                                                color_mode='rgb',\n",
        "                                                batch_size=batch_size,\n",
        "                                                class_mode='binary') # 이진분류 모델이기 때문에"
      ],
      "execution_count": null,
      "outputs": [
        {
          "output_type": "stream",
          "text": [
            "Found 24958 images belonging to 2 classes.\n"
          ],
          "name": "stdout"
        }
      ]
    },
    {
      "cell_type": "markdown",
      "metadata": {
        "id": "QckgZ5_ZEJO4"
      },
      "source": [
        "target_size=image_shape[:2]는 image_shape = (130,130,3)에서 130*130만 쓰기 때문에 [:2]로 잘라준것입니다.  \n"
      ]
    },
    {
      "cell_type": "code",
      "metadata": {
        "colab": {
          "base_uri": "https://localhost:8080/"
        },
        "id": "rCuyNCawD-q3",
        "outputId": "0916827e-af61-480e-9b8d-362665fa0c8e"
      },
      "source": [
        "test_image_gen = image_gen.flow_from_directory(test_path,\n",
        "                                               target_size=image_shape[:2],\n",
        "                                               color_mode='rgb',\n",
        "                                               batch_size=batch_size,\n",
        "                                               class_mode='binary',shuffle=False)"
      ],
      "execution_count": null,
      "outputs": [
        {
          "output_type": "stream",
          "text": [
            "Found 2600 images belonging to 2 classes.\n"
          ],
          "name": "stdout"
        }
      ]
    },
    {
      "cell_type": "markdown",
      "metadata": {
        "id": "omvYWdJEEzV0"
      },
      "source": [
        "train set은 무작위로 섞어도 되지만, test set은 섞이면 안됩니다.  \n",
        "라벨이 실제 특성과 다르게 섞여버리기 때문"
      ]
    },
    {
      "cell_type": "code",
      "metadata": {
        "colab": {
          "base_uri": "https://localhost:8080/"
        },
        "id": "PLEw5WNdEE21",
        "outputId": "5870c2b7-a085-4ded-de63-92423aa61d47"
      },
      "source": [
        "train_image_gen.class_indices"
      ],
      "execution_count": null,
      "outputs": [
        {
          "output_type": "execute_result",
          "data": {
            "text/plain": [
              "{'parasitized': 0, 'uninfected': 1}"
            ]
          },
          "metadata": {
            "tags": []
          },
          "execution_count": 41
        }
      ]
    },
    {
      "cell_type": "markdown",
      "metadata": {
        "id": "4tB3fsUqFEE5"
      },
      "source": [
        "감염된 혈액세포를 0으로, 정상 혈액세포를 1로 구분"
      ]
    },
    {
      "cell_type": "code",
      "metadata": {
        "id": "nVy7DygaFdBw"
      },
      "source": [
        "import warnings\n",
        "warnings.filterwarnings('ignore')"
      ],
      "execution_count": null,
      "outputs": []
    },
    {
      "cell_type": "code",
      "metadata": {
        "colab": {
          "base_uri": "https://localhost:8080/"
        },
        "id": "yyq4L5XTFOw8",
        "outputId": "458787b2-bee6-4d44-810d-f3c1b461247a"
      },
      "source": [
        "results = model.fit_generator(train_image_gen, epochs=20,\n",
        "                              validation_data=test_image_gen,\n",
        "                             callbacks=[early_stop])"
      ],
      "execution_count": null,
      "outputs": [
        {
          "output_type": "stream",
          "text": [
            "Epoch 1/20\n",
            "98/98 [==============================] - 139s 1s/step - loss: 0.6610 - accuracy: 0.6094 - val_loss: 0.6568 - val_accuracy: 0.6065\n",
            "Epoch 2/20\n",
            "98/98 [==============================] - 139s 1s/step - loss: 0.6547 - accuracy: 0.6240 - val_loss: 0.6575 - val_accuracy: 0.6269\n",
            "Epoch 3/20\n",
            "98/98 [==============================] - 139s 1s/step - loss: 0.6394 - accuracy: 0.6394 - val_loss: 0.4924 - val_accuracy: 0.7858\n",
            "Epoch 4/20\n",
            "98/98 [==============================] - 139s 1s/step - loss: 0.2932 - accuracy: 0.8985 - val_loss: 0.2332 - val_accuracy: 0.9158\n",
            "Epoch 5/20\n",
            "98/98 [==============================] - 138s 1s/step - loss: 0.2494 - accuracy: 0.9161 - val_loss: 0.2286 - val_accuracy: 0.9212\n",
            "Epoch 6/20\n",
            "98/98 [==============================] - 139s 1s/step - loss: 0.2319 - accuracy: 0.9230 - val_loss: 0.1978 - val_accuracy: 0.9319\n",
            "Epoch 7/20\n",
            "98/98 [==============================] - 138s 1s/step - loss: 0.1968 - accuracy: 0.9333 - val_loss: 0.1957 - val_accuracy: 0.9223\n",
            "Epoch 8/20\n",
            "98/98 [==============================] - 139s 1s/step - loss: 0.1852 - accuracy: 0.9381 - val_loss: 0.1855 - val_accuracy: 0.9392\n",
            "Epoch 9/20\n",
            "98/98 [==============================] - 138s 1s/step - loss: 0.1789 - accuracy: 0.9432 - val_loss: 0.2037 - val_accuracy: 0.9312\n",
            "Epoch 10/20\n",
            "98/98 [==============================] - 138s 1s/step - loss: 0.1759 - accuracy: 0.9450 - val_loss: 0.1770 - val_accuracy: 0.9435\n",
            "Epoch 11/20\n",
            "98/98 [==============================] - 139s 1s/step - loss: 0.1718 - accuracy: 0.9472 - val_loss: 0.1677 - val_accuracy: 0.9458\n",
            "Epoch 12/20\n",
            "98/98 [==============================] - 141s 1s/step - loss: 0.1690 - accuracy: 0.9474 - val_loss: 0.1730 - val_accuracy: 0.9431\n",
            "Epoch 13/20\n",
            "98/98 [==============================] - 140s 1s/step - loss: 0.1685 - accuracy: 0.9465 - val_loss: 0.1631 - val_accuracy: 0.9446\n",
            "Epoch 14/20\n",
            "98/98 [==============================] - 139s 1s/step - loss: 0.1641 - accuracy: 0.9491 - val_loss: 0.1669 - val_accuracy: 0.9362\n",
            "Epoch 15/20\n",
            "98/98 [==============================] - 139s 1s/step - loss: 0.1664 - accuracy: 0.9490 - val_loss: 0.1668 - val_accuracy: 0.9427\n"
          ],
          "name": "stdout"
        }
      ]
    },
    {
      "cell_type": "code",
      "metadata": {
        "id": "9Ro5oKTJHLdR"
      },
      "source": [
        "norm_losses = pd.DataFrame(model.history.history)"
      ],
      "execution_count": null,
      "outputs": []
    },
    {
      "cell_type": "code",
      "metadata": {
        "colab": {
          "base_uri": "https://localhost:8080/",
          "height": 283
        },
        "id": "SXehYEUTHNj5",
        "outputId": "ec2467bb-1b5d-4022-d113-d1dd342e6720"
      },
      "source": [
        "norm_losses[['loss','val_loss']].plot()"
      ],
      "execution_count": null,
      "outputs": [
        {
          "output_type": "execute_result",
          "data": {
            "text/plain": [
              "<matplotlib.axes._subplots.AxesSubplot at 0x7f78b2422a90>"
            ]
          },
          "metadata": {
            "tags": []
          },
          "execution_count": 198
        },
        {
          "output_type": "display_data",
          "data": {
            "image/png": "[encoded data removed]",
            "text/plain": [
              "<Figure size 432x288 with 1 Axes>"
            ]
          },
          "metadata": {
            "tags": [],
            "needs_background": "light"
          }
        }
      ]
    },
    {
      "cell_type": "markdown",
      "metadata": {
        "id": "q9fCbzAoCGxv"
      },
      "source": [
        "모델의 히스토리를 확인해본 결과 학습이 완료된 모델은 과적합이나 학습률 문제는 없는것으로 보입니다."
      ]
    },
    {
      "cell_type": "code",
      "metadata": {
        "colab": {
          "base_uri": "https://localhost:8080/"
        },
        "id": "nQhfisRkHUKS",
        "outputId": "61cbd6cc-75f4-40e5-f0ef-64b5c0fa3cf3"
      },
      "source": [
        "model.metrics_names"
      ],
      "execution_count": null,
      "outputs": [
        {
          "output_type": "execute_result",
          "data": {
            "text/plain": [
              "['loss', 'accuracy']"
            ]
          },
          "metadata": {
            "tags": []
          },
          "execution_count": 199
        }
      ]
    },
    {
      "cell_type": "code",
      "metadata": {
        "colab": {
          "base_uri": "https://localhost:8080/"
        },
        "id": "QQ_j9C0SHVzp",
        "outputId": "2896c1ef-3ad2-4ddb-be47-73e18b35a329"
      },
      "source": [
        "model.evaluate_generator(test_image_gen)"
      ],
      "execution_count": null,
      "outputs": [
        {
          "output_type": "execute_result",
          "data": {
            "text/plain": [
              "[0.1508789211511612, 0.944615364074707]"
            ]
          },
          "metadata": {
            "tags": []
          },
          "execution_count": 200
        }
      ]
    },
    {
      "cell_type": "markdown",
      "metadata": {
        "id": "2JspEV_UCHwT"
      },
      "source": [
        "정확도가 94.4%가 나온걸로 봐선 모델의 성능 또한 준수하게 나온걸 확인할 수 있습니다."
      ]
    },
    {
      "cell_type": "code",
      "metadata": {
        "id": "q2xp19oNHZhL"
      },
      "source": [
        "from tensorflow.keras.preprocessing import image"
      ],
      "execution_count": null,
      "outputs": []
    },
    {
      "cell_type": "code",
      "metadata": {
        "id": "wr_XeTaYHa1o"
      },
      "source": [
        "pred_probabilities = model.predict_generator(test_image_gen)"
      ],
      "execution_count": null,
      "outputs": []
    },
    {
      "cell_type": "code",
      "metadata": {
        "colab": {
          "base_uri": "https://localhost:8080/"
        },
        "id": "OgpNlnj5WoFE",
        "outputId": "aa1a86d7-252e-4329-d034-e89870d22b82"
      },
      "source": [
        "pred_probabilities"
      ],
      "execution_count": null,
      "outputs": [
        {
          "output_type": "execute_result",
          "data": {
            "text/plain": [
              "array([[3.1565380e-04],\n",
              "       [6.1449515e-05],\n",
              "       [1.3519489e-04],\n",
              "       ...,\n",
              "       [9.7180068e-01],\n",
              "       [9.7083414e-01],\n",
              "       [9.3442720e-01]], dtype=float32)"
            ]
          },
          "metadata": {
            "tags": []
          },
          "execution_count": 204
        }
      ]
    },
    {
      "cell_type": "code",
      "metadata": {
        "id": "GNSwpJ9LWvpx"
      },
      "source": [
        "# 50% 이상의 확률\n",
        "predictions = pred_probabilities > 0.5"
      ],
      "execution_count": null,
      "outputs": []
    },
    {
      "cell_type": "code",
      "metadata": {
        "colab": {
          "base_uri": "https://localhost:8080/"
        },
        "id": "NHwkoUE6W6kL",
        "outputId": "db444585-e51e-429c-899b-71363028f30f"
      },
      "source": [
        "predictions"
      ],
      "execution_count": null,
      "outputs": [
        {
          "output_type": "execute_result",
          "data": {
            "text/plain": [
              "array([[False],\n",
              "       [False],\n",
              "       [False],\n",
              "       ...,\n",
              "       [ True],\n",
              "       [ True],\n",
              "       [ True]])"
            ]
          },
          "metadata": {
            "tags": []
          },
          "execution_count": 215
        }
      ]
    },
    {
      "cell_type": "markdown",
      "metadata": {
        "id": "AqZ25rBIX6v7"
      },
      "source": [
        "정상 혈액세포를 True로 감염된 혈액세포를 False로 구분"
      ]
    },
    {
      "cell_type": "markdown",
      "metadata": {
        "id": "pu3jEbcdDydV"
      },
      "source": [
        "확률을 default 값인 50%와 높은 기준인 90%로 두가지로 나누어 성능을 비교해보겠습니다."
      ]
    },
    {
      "cell_type": "code",
      "metadata": {
        "colab": {
          "base_uri": "https://localhost:8080/"
        },
        "id": "NBI3-ok3Y0Od",
        "outputId": "6cf27ef9-98f2-4eec-9896-4b2905aca989"
      },
      "source": [
        "from sklearn.metrics import classification_report,confusion_matrix\n",
        "# 임계값이 0.5\n",
        "print(classification_report(test_image_gen.classes, predictions))"
      ],
      "execution_count": null,
      "outputs": [
        {
          "output_type": "stream",
          "text": [
            "              precision    recall  f1-score   support\n",
            "\n",
            "           0       0.96      0.93      0.94      1300\n",
            "           1       0.93      0.96      0.95      1300\n",
            "\n",
            "    accuracy                           0.95      2600\n",
            "   macro avg       0.95      0.95      0.95      2600\n",
            "weighted avg       0.95      0.95      0.95      2600\n",
            "\n"
          ],
          "name": "stdout"
        }
      ]
    },
    {
      "cell_type": "code",
      "metadata": {
        "colab": {
          "base_uri": "https://localhost:8080/"
        },
        "id": "Tkmj0AqeW8Ie",
        "outputId": "8a07aeb6-12c0-4654-c4ac-bd90a13470e3"
      },
      "source": [
        "# 임계값이 0.9\n",
        "predictions_90 = pred_probabilities > 0.9\n",
        "print(classification_report(test_image_gen.classes, predictions_90))"
      ],
      "execution_count": null,
      "outputs": [
        {
          "output_type": "stream",
          "text": [
            "              precision    recall  f1-score   support\n",
            "\n",
            "           0       0.83      0.98      0.90      1300\n",
            "           1       0.97      0.81      0.88      1300\n",
            "\n",
            "    accuracy                           0.89      2600\n",
            "   macro avg       0.90      0.89      0.89      2600\n",
            "weighted avg       0.90      0.89      0.89      2600\n",
            "\n"
          ],
          "name": "stdout"
        }
      ]
    },
    {
      "cell_type": "markdown",
      "metadata": {
        "id": "eJ4BcDrvZjZ_"
      },
      "source": [
        "정밀도(precision)란 모델이 True라고 분류한 것 중에서 실제 True인 것의 비율입니다.  \n",
        "재현율(recall)이란 실제 True인 것 중에서 모델이 True라고 예측한 것의 비율입니다.\n",
        "\n",
        "\n",
        "pred_probabilities를 0.9 (90%)로 설정했을때 0.5(50%)인 경우보다 0(감염자)의 recall이 높습니다.  \n",
        "pred_probabilities에 따라 다른 성능이 나오는 특성은 다양하게 사용될 수 있습니다.\n",
        "\n",
        "\n",
        "\n",
        "예를 들어 환자의 혈액검사를 진행하는 의사입장에서 고민해봅시다.  \n",
        "치사율이 낮은 병에 대해서 혈액검사를 진행하는데 복용하는 약의 부작용이 걱정된다면  \n",
        "pred_probabilities를 0.5로 설정해서 정밀도를 높인 검사를 진행하는게 맞겠지만  \n",
        "말라리아같은 치사율이 높은 병을 검사한다면 pred_probabilities를 0.9로 설정해서 재현율을 높일 것 같습니다."
      ]
    },
    {
      "cell_type": "markdown",
      "metadata": {
        "id": "ottHT4XzmDEm"
      },
      "source": [
        "# Cross Validation"
      ]
    },
    {
      "cell_type": "markdown",
      "metadata": {
        "id": "npc59SGonlur"
      },
      "source": [
        "Cross Validation을 수행하기 위해서는 data set을 ImageDataGenerator으로 설정해서는 안됩니다.  \n",
        "아직 ImageDataGenerator을 사용해서 데이터셋을 구분하는 기능이 구현되지 않았기 때문입니다."
      ]
    },
    {
      "cell_type": "markdown",
      "metadata": {
        "id": "lQ-EiBG4RIY1"
      },
      "source": [
        "데이터 로드속도가 너무 오래걸려서 테스트셋의 이미지만 불러와서 사용하겠습니다."
      ]
    },
    {
      "cell_type": "code",
      "metadata": {
        "id": "rkBGfJO4NsEt"
      },
      "source": [
        "import skimage\n",
        "import numpy as np\n",
        "from skimage import color, io\n",
        "from skimage.transform import resize"
      ],
      "execution_count": null,
      "outputs": []
    },
    {
      "cell_type": "code",
      "metadata": {
        "colab": {
          "base_uri": "https://localhost:8080/",
          "height": 35
        },
        "id": "w-mQYXpyNeRH",
        "outputId": "2e1013c7-a9d1-49d0-a3f0-7922342b807b"
      },
      "source": [
        "test_path"
      ],
      "execution_count": null,
      "outputs": [
        {
          "output_type": "execute_result",
          "data": {
            "application/vnd.google.colaboratory.intrinsic+json": {
              "type": "string"
            },
            "text/plain": [
              "'/content/drive/My Drive/cell_images/cell_images/test/'"
            ]
          },
          "metadata": {
            "tags": []
          },
          "execution_count": 203
        }
      ]
    },
    {
      "cell_type": "code",
      "metadata": {
        "colab": {
          "base_uri": "https://localhost:8080/"
        },
        "id": "EKyyJvrYNlpU",
        "outputId": "48e05d08-765a-4fdf-a930-b345be049eb7"
      },
      "source": [
        "os.listdir(test_path)"
      ],
      "execution_count": null,
      "outputs": [
        {
          "output_type": "execute_result",
          "data": {
            "text/plain": [
              "['parasitized', 'uninfected']"
            ]
          },
          "metadata": {
            "tags": []
          },
          "execution_count": 204
        }
      ]
    },
    {
      "cell_type": "code",
      "metadata": {
        "id": "UPyAwx0_OZC1"
      },
      "source": [
        "X_parasite = skimage.io.imread_collection('/content/drive/My Drive/cell_images/cell_images/test/parasitized/*.png')\n",
        "X_uninfect = skimage.io.imread_collection('/content/drive/My Drive/cell_images/cell_images/test/uninfected/*.png')"
      ],
      "execution_count": null,
      "outputs": []
    },
    {
      "cell_type": "code",
      "metadata": {
        "colab": {
          "base_uri": "https://localhost:8080/"
        },
        "id": "5TsZTlmuRDND",
        "outputId": "e1e938b4-6ebf-40e9-b5ec-10f2d7a7e895"
      },
      "source": [
        "# 데이터의 양\n",
        "print(len(X_parasite))\n",
        "print(len(X_uninfect))"
      ],
      "execution_count": null,
      "outputs": [
        {
          "output_type": "stream",
          "text": [
            "1300\n",
            "1300\n"
          ],
          "name": "stdout"
        }
      ]
    },
    {
      "cell_type": "code",
      "metadata": {
        "colab": {
          "base_uri": "https://localhost:8080/"
        },
        "id": "Wp8-9KTiTdEi",
        "outputId": "43cc47f3-45b0-48cc-f1ee-adc7b7f1439b"
      },
      "source": [
        "# 데이터의 형태\n",
        "print(X_parasite[0].shape)\n",
        "print(X_uninfect[0].shape)"
      ],
      "execution_count": null,
      "outputs": [
        {
          "output_type": "stream",
          "text": [
            "(112, 148, 3)\n",
            "(136, 157, 3)\n"
          ],
          "name": "stdout"
        }
      ]
    },
    {
      "cell_type": "markdown",
      "metadata": {
        "id": "AJSwgCekTkNz"
      },
      "source": [
        "이전에는 generator를 이용해서 image resize와 labeling을 해줬지만  \n",
        "이번에는 교차검증을 위해  imread를 사용하기 때문에 수동적인 전처리과정이 필요합니다."
      ]
    },
    {
      "cell_type": "code",
      "metadata": {
        "id": "AKfDVpdJUx-Y"
      },
      "source": [
        "# resize\n",
        "X_parasite = [resize(img, (130, 130)) for img in X_parasite]\n",
        "X_uninfect = [resize(img, (130, 130)) for img in X_uninfect]"
      ],
      "execution_count": null,
      "outputs": []
    },
    {
      "cell_type": "code",
      "metadata": {
        "id": "JVAK3GadRyvp"
      },
      "source": [
        "# labeling\n",
        "# 기존 데이터와 같이 감염자의 혈액을 0, 비감염자의 혈액을 1로 설정\n",
        "y_parasite = np.zeros(len(X_parasite)) # np.array([0] * len(X_parasite))\n",
        "y_uninfect = np.ones(len(X_uninfect)) # np.array([1] * len(X_uninfect))"
      ],
      "execution_count": null,
      "outputs": []
    },
    {
      "cell_type": "code",
      "metadata": {
        "id": "wsUBMaWQSF4f"
      },
      "source": [
        "# 두 데이터셋 합치기\n",
        "X_cv = np.concatenate((X_parasite, X_uninfect))\n",
        "y_cv = np.concatenate((y_parasite, y_uninfect))"
      ],
      "execution_count": null,
      "outputs": []
    },
    {
      "cell_type": "markdown",
      "metadata": {
        "id": "SZmdoYsTHmMG"
      },
      "source": [
        "모델 선언 함수 (기존 모델과 같습니다.)"
      ]
    },
    {
      "cell_type": "code",
      "metadata": {
        "id": "8iIbMzV6l83p"
      },
      "source": [
        "# define cnn model\n",
        "def define_model():\n",
        "  model = Sequential()\n",
        "  model.add(Conv2D(filters=32, kernel_size=(3,3),input_shape=image_shape, activation='relu'))\n",
        "  model.add(MaxPooling2D(pool_size=(2, 2)))\n",
        "  model.add(Conv2D(filters=64, kernel_size=(3,3),input_shape=image_shape, activation='relu'))\n",
        "  model.add(MaxPooling2D(pool_size=(2, 2)))\n",
        "  model.add(Conv2D(filters=64, kernel_size=(3,3),input_shape=image_shape, activation='relu'))\n",
        "  model.add(MaxPooling2D(pool_size=(2, 2)))\n",
        "  model.add(Flatten())\n",
        "  model.add(Dense(128, activation='relu'))\n",
        "  model.add(Dropout(0.5))\n",
        "  model.add(Dense(1, activation='sigmoid'))\n",
        "\t# compile model\n",
        "  model.compile(loss='binary_crossentropy',\n",
        "              optimizer='adam',\n",
        "              metrics=['accuracy'])\n",
        "  return model"
      ],
      "execution_count": null,
      "outputs": []
    },
    {
      "cell_type": "code",
      "metadata": {
        "colab": {
          "base_uri": "https://localhost:8080/"
        },
        "id": "bIzUPAR53Pxs",
        "outputId": "25b624b8-0b5d-4162-ddca-e78706f1eecd"
      },
      "source": [
        "from sklearn.model_selection import StratifiedKFold\n",
        "from keras.callbacks import EarlyStopping, ModelCheckpoint\n",
        "\n",
        "# define 5-fold cross validation test harness\n",
        "kfold = StratifiedKFold(n_splits=5, shuffle=True, random_state=3)\n",
        "\n",
        "kf = kfold.get_n_splits(X)\n",
        "cvscores = []\n",
        "\n",
        "#for each train, test in cross validation sub-set\n",
        "for train, test in kfold.split(X_cv, y_cv):\n",
        "\n",
        "    X_train, X_test = X_cv[train], X_cv[test]\n",
        "    y_train, y_test = y_cv[train], y_cv[test]\n",
        "\n",
        "    #add layers to model\n",
        "    model = define_model()\n",
        "\n",
        "    #monitor val accuracy and perform early stopping\n",
        "    early_stop = EarlyStopping(monitor='val_loss', mode='min', patience=2)\n",
        "\n",
        "    #fit the model\n",
        "    model.fit(X_train, y_train, validation_data=(X_test, y_test), callbacks=[early_stop], epochs=20, batch_size=32)\n",
        "\n",
        "    #evaluate the model\n",
        "    scores = model.evaluate(X_test, y_test, verbose=0)\n",
        "    print(\"%s: %.2f%%\" % (model.metrics_names[1], scores[1]*100))\n",
        "    cvscores.append(scores[1] * 100)"
      ],
      "execution_count": null,
      "outputs": [
        {
          "output_type": "stream",
          "text": [
            "Epoch 1/20\n",
            "65/65 [==============================] - 2s 27ms/step - loss: 0.7008 - accuracy: 0.5189 - val_loss: 0.6812 - val_accuracy: 0.5365\n",
            "Epoch 2/20\n",
            "65/65 [==============================] - 1s 23ms/step - loss: 0.6653 - accuracy: 0.6134 - val_loss: 0.6054 - val_accuracy: 0.7250\n",
            "Epoch 3/20\n",
            "65/65 [==============================] - 1s 23ms/step - loss: 0.6188 - accuracy: 0.6907 - val_loss: 0.5684 - val_accuracy: 0.7038\n",
            "Epoch 4/20\n",
            "65/65 [==============================] - 1s 23ms/step - loss: 0.4843 - accuracy: 0.8125 - val_loss: 0.3151 - val_accuracy: 0.8981\n",
            "Epoch 5/20\n",
            "65/65 [==============================] - 1s 23ms/step - loss: 0.3313 - accuracy: 0.8878 - val_loss: 0.2810 - val_accuracy: 0.9038\n",
            "Epoch 6/20\n",
            "65/65 [==============================] - 1s 23ms/step - loss: 0.2813 - accuracy: 0.9076 - val_loss: 0.3447 - val_accuracy: 0.8596\n",
            "Epoch 7/20\n",
            "65/65 [==============================] - 1s 23ms/step - loss: 0.2150 - accuracy: 0.9265 - val_loss: 0.2483 - val_accuracy: 0.9115\n",
            "Epoch 8/20\n",
            "65/65 [==============================] - 1s 23ms/step - loss: 0.1699 - accuracy: 0.9343 - val_loss: 0.2339 - val_accuracy: 0.9269\n",
            "Epoch 9/20\n",
            "65/65 [==============================] - 1s 23ms/step - loss: 0.1318 - accuracy: 0.9581 - val_loss: 0.1917 - val_accuracy: 0.9308\n",
            "Epoch 10/20\n",
            "65/65 [==============================] - 1s 23ms/step - loss: 0.0916 - accuracy: 0.9644 - val_loss: 0.3027 - val_accuracy: 0.9250\n",
            "Epoch 11/20\n",
            "65/65 [==============================] - 1s 23ms/step - loss: 0.0714 - accuracy: 0.9747 - val_loss: 0.2536 - val_accuracy: 0.9365\n",
            "accuracy: 93.65%\n",
            "Epoch 1/20\n",
            "65/65 [==============================] - 2s 27ms/step - loss: 0.7025 - accuracy: 0.5389 - val_loss: 0.6423 - val_accuracy: 0.6269\n",
            "Epoch 2/20\n",
            "65/65 [==============================] - 2s 23ms/step - loss: 0.6222 - accuracy: 0.6835 - val_loss: 0.5279 - val_accuracy: 0.8365\n",
            "Epoch 3/20\n",
            "65/65 [==============================] - 1s 23ms/step - loss: 0.5046 - accuracy: 0.8098 - val_loss: 0.3297 - val_accuracy: 0.9115\n",
            "Epoch 4/20\n",
            "65/65 [==============================] - 2s 23ms/step - loss: 0.3339 - accuracy: 0.8946 - val_loss: 0.2799 - val_accuracy: 0.9173\n",
            "Epoch 5/20\n",
            "65/65 [==============================] - 1s 23ms/step - loss: 0.2539 - accuracy: 0.9173 - val_loss: 0.2143 - val_accuracy: 0.9288\n",
            "Epoch 6/20\n",
            "65/65 [==============================] - 1s 23ms/step - loss: 0.1827 - accuracy: 0.9372 - val_loss: 0.2032 - val_accuracy: 0.9038\n",
            "Epoch 7/20\n",
            "65/65 [==============================] - 1s 23ms/step - loss: 0.1381 - accuracy: 0.9418 - val_loss: 0.2181 - val_accuracy: 0.9269\n",
            "Epoch 8/20\n",
            "65/65 [==============================] - 2s 23ms/step - loss: 0.1308 - accuracy: 0.9469 - val_loss: 0.1898 - val_accuracy: 0.9346\n",
            "Epoch 9/20\n",
            "65/65 [==============================] - 1s 23ms/step - loss: 0.1131 - accuracy: 0.9491 - val_loss: 0.2576 - val_accuracy: 0.9308\n",
            "Epoch 10/20\n",
            "65/65 [==============================] - 1s 23ms/step - loss: 0.0801 - accuracy: 0.9715 - val_loss: 0.2102 - val_accuracy: 0.9423\n",
            "accuracy: 94.23%\n",
            "Epoch 1/20\n",
            "65/65 [==============================] - 2s 27ms/step - loss: 0.6971 - accuracy: 0.5365 - val_loss: 0.6827 - val_accuracy: 0.5327\n",
            "Epoch 2/20\n",
            "65/65 [==============================] - 1s 23ms/step - loss: 0.6793 - accuracy: 0.5559 - val_loss: 0.6641 - val_accuracy: 0.5635\n",
            "Epoch 3/20\n",
            "65/65 [==============================] - 2s 23ms/step - loss: 0.6332 - accuracy: 0.6446 - val_loss: 0.5297 - val_accuracy: 0.7692\n",
            "Epoch 4/20\n",
            "65/65 [==============================] - 2s 23ms/step - loss: 0.4793 - accuracy: 0.8154 - val_loss: 0.3172 - val_accuracy: 0.9269\n",
            "Epoch 5/20\n",
            "65/65 [==============================] - 1s 23ms/step - loss: 0.3303 - accuracy: 0.8871 - val_loss: 0.2317 - val_accuracy: 0.9288\n",
            "Epoch 6/20\n",
            "65/65 [==============================] - 2s 23ms/step - loss: 0.2205 - accuracy: 0.9281 - val_loss: 0.2427 - val_accuracy: 0.9212\n",
            "Epoch 7/20\n",
            "65/65 [==============================] - 2s 23ms/step - loss: 0.1934 - accuracy: 0.9326 - val_loss: 0.2467 - val_accuracy: 0.9192\n",
            "accuracy: 91.92%\n",
            "Epoch 1/20\n",
            "65/65 [==============================] - 2s 26ms/step - loss: 0.6957 - accuracy: 0.5369 - val_loss: 0.6339 - val_accuracy: 0.6346\n",
            "Epoch 2/20\n",
            "65/65 [==============================] - 1s 23ms/step - loss: 0.6309 - accuracy: 0.6573 - val_loss: 0.4855 - val_accuracy: 0.8250\n",
            "Epoch 3/20\n",
            "65/65 [==============================] - 2s 23ms/step - loss: 0.4241 - accuracy: 0.8547 - val_loss: 0.3414 - val_accuracy: 0.8654\n",
            "Epoch 4/20\n",
            "65/65 [==============================] - 2s 23ms/step - loss: 0.2888 - accuracy: 0.9174 - val_loss: 0.3069 - val_accuracy: 0.9019\n",
            "Epoch 5/20\n",
            "65/65 [==============================] - 2s 23ms/step - loss: 0.2606 - accuracy: 0.9077 - val_loss: 0.2047 - val_accuracy: 0.9135\n",
            "Epoch 6/20\n",
            "65/65 [==============================] - 2s 23ms/step - loss: 0.1926 - accuracy: 0.9232 - val_loss: 0.2289 - val_accuracy: 0.9212\n",
            "Epoch 7/20\n",
            "65/65 [==============================] - 1s 23ms/step - loss: 0.1371 - accuracy: 0.9517 - val_loss: 0.2425 - val_accuracy: 0.9135\n",
            "accuracy: 91.35%\n",
            "Epoch 1/20\n",
            "65/65 [==============================] - 2s 27ms/step - loss: 0.7011 - accuracy: 0.5311 - val_loss: 0.6731 - val_accuracy: 0.6096\n",
            "Epoch 2/20\n",
            "65/65 [==============================] - 2s 23ms/step - loss: 0.6626 - accuracy: 0.6110 - val_loss: 0.6290 - val_accuracy: 0.6577\n",
            "Epoch 3/20\n",
            "65/65 [==============================] - 2s 23ms/step - loss: 0.5810 - accuracy: 0.7296 - val_loss: 0.5167 - val_accuracy: 0.7788\n",
            "Epoch 4/20\n",
            "65/65 [==============================] - 1s 23ms/step - loss: 0.3777 - accuracy: 0.8682 - val_loss: 0.3725 - val_accuracy: 0.9096\n",
            "Epoch 5/20\n",
            "65/65 [==============================] - 2s 23ms/step - loss: 0.3080 - accuracy: 0.9027 - val_loss: 0.3452 - val_accuracy: 0.8635\n",
            "Epoch 6/20\n",
            "65/65 [==============================] - 2s 24ms/step - loss: 0.2289 - accuracy: 0.9203 - val_loss: 0.2940 - val_accuracy: 0.8942\n",
            "Epoch 7/20\n",
            "65/65 [==============================] - 2s 23ms/step - loss: 0.1817 - accuracy: 0.9367 - val_loss: 0.2800 - val_accuracy: 0.8962\n",
            "Epoch 8/20\n",
            "65/65 [==============================] - 1s 23ms/step - loss: 0.1371 - accuracy: 0.9594 - val_loss: 0.2819 - val_accuracy: 0.9096\n",
            "Epoch 9/20\n",
            "65/65 [==============================] - 1s 23ms/step - loss: 0.0891 - accuracy: 0.9734 - val_loss: 0.3138 - val_accuracy: 0.9135\n",
            "accuracy: 91.35%\n"
          ],
          "name": "stdout"
        }
      ]
    },
    {
      "cell_type": "code",
      "metadata": {
        "colab": {
          "base_uri": "https://localhost:8080/"
        },
        "id": "6j2Ks0X7A-_2",
        "outputId": "5aa50380-f07d-43b4-be73-5c15050754fc"
      },
      "source": [
        "#check the accuracy\n",
        "print(\"%.2f%% (+/- %.2f%%)\" % (numpy.mean(cvscores), numpy.std(cvscores)))"
      ],
      "execution_count": null,
      "outputs": [
        {
          "output_type": "stream",
          "text": [
            "92.50% (+/- 1.21%)\n"
          ],
          "name": "stdout"
        }
      ]
    },
    {
      "cell_type": "markdown",
      "metadata": {
        "id": "cT0S6XQnLiui"
      },
      "source": [
        "기존 모델의 정확도인 94.4%보다 조금 낮아진 정확도입니다.  \n",
        "기존 모델은 교차검증할때 사용한 데이터셋 보다 더 많은 데이터를 사용했고,  \n",
        "ImageDataGenerator를 써서 Image argumatation까지 사용했기 떄문에 더 좋은 정확도가 나왔다고 생각합니다. "
      ]
    },
    {
      "cell_type": "markdown",
      "metadata": {
        "id": "T9DlqfRf9W0F"
      },
      "source": [
        "# 이미지를 보고 예측해보기"
      ]
    },
    {
      "cell_type": "markdown",
      "metadata": {
        "id": "lLCBzqKDXGOM"
      },
      "source": [
        "train set의 100번째 이미지를 불러와서 모델이 어떻게 예측하는지 살펴보겠습니다."
      ]
    },
    {
      "cell_type": "code",
      "metadata": {
        "colab": {
          "base_uri": "https://localhost:8080/",
          "height": 35
        },
        "id": "oWjxqIMTXCCd",
        "outputId": "d3c94b98-ea3a-4e07-d17f-7f169a76ec62"
      },
      "source": [
        "os.listdir(train_path + 'parasitized')[100]"
      ],
      "execution_count": null,
      "outputs": [
        {
          "output_type": "execute_result",
          "data": {
            "application/vnd.google.colaboratory.intrinsic+json": {
              "type": "string"
            },
            "text/plain": [
              "'C99P60ThinF_IMG_20150918_140900_cell_105.png'"
            ]
          },
          "metadata": {
            "tags": []
          },
          "execution_count": 223
        }
      ]
    },
    {
      "cell_type": "code",
      "metadata": {
        "id": "-eoZX14P9W0F"
      },
      "source": [
        "para_cell_100 = train_path + 'parasitized/' + 'C99P60ThinF_IMG_20150918_140900_cell_105.png'"
      ],
      "execution_count": null,
      "outputs": []
    },
    {
      "cell_type": "code",
      "metadata": {
        "id": "jIm_wYkx9W0G"
      },
      "source": [
        "my_image = image.load_img(para_cell_100,target_size=image_shape)"
      ],
      "execution_count": null,
      "outputs": []
    },
    {
      "cell_type": "code",
      "metadata": {
        "id": "tfS4bg329W0G",
        "colab": {
          "base_uri": "https://localhost:8080/",
          "height": 147
        },
        "outputId": "d5f4412e-6635-4b7c-a27a-8e4684dfb1fc"
      },
      "source": [
        "my_image"
      ],
      "execution_count": null,
      "outputs": [
        {
          "output_type": "execute_result",
          "data": {
            "image/png": "[encoded data removed]",
            "text/plain": [
              "<PIL.Image.Image image mode=RGB size=130x130 at 0x7F06D0124690>"
            ]
          },
          "metadata": {
            "tags": []
          },
          "execution_count": 239
        }
      ]
    },
    {
      "cell_type": "code",
      "metadata": {
        "id": "r-_05-1lYz0w"
      },
      "source": [
        "my_image = np.expand_dims(my_image, axis=0)"
      ],
      "execution_count": null,
      "outputs": []
    },
    {
      "cell_type": "code",
      "metadata": {
        "id": "zM5y15AZ9W0I",
        "colab": {
          "base_uri": "https://localhost:8080/"
        },
        "outputId": "65d2b81e-3be5-422f-ad1d-b289ae65e846"
      },
      "source": [
        "model.predict(my_image)"
      ],
      "execution_count": null,
      "outputs": [
        {
          "output_type": "execute_result",
          "data": {
            "text/plain": [
              "array([[0.]], dtype=float32)"
            ]
          },
          "metadata": {
            "tags": []
          },
          "execution_count": 230
        }
      ]
    },
    {
      "cell_type": "markdown",
      "metadata": {
        "id": "WLmLtg4UYm1j"
      },
      "source": [
        "모델의 예측은 감염자(0)으로 예측하고 있고, 올바른 예측입니다.  "
      ]
    },
    {
      "cell_type": "code",
      "metadata": {
        "colab": {
          "base_uri": "https://localhost:8080/",
          "height": 35
        },
        "id": "DFJ4fPgXYQEz",
        "outputId": "5b0f812c-a6ce-4b22-9afc-6e52fa10638f"
      },
      "source": [
        "os.listdir(train_path + 'uninfected')[100]"
      ],
      "execution_count": null,
      "outputs": [
        {
          "output_type": "execute_result",
          "data": {
            "application/vnd.google.colaboratory.intrinsic+json": {
              "type": "string"
            },
            "text/plain": [
              "'C87P48ThinF_IMG_20150820_132642_cell_160.png'"
            ]
          },
          "metadata": {
            "tags": []
          },
          "execution_count": 231
        }
      ]
    },
    {
      "cell_type": "code",
      "metadata": {
        "id": "AIjn8eOuYZpF"
      },
      "source": [
        "uninf_cell_100 = train_path + 'uninfected/' + 'C87P48ThinF_IMG_20150820_132642_cell_160.png'"
      ],
      "execution_count": null,
      "outputs": []
    },
    {
      "cell_type": "code",
      "metadata": {
        "id": "JlTuaXdL9W0I"
      },
      "source": [
        "my_image_1 = image.load_img(uninf_cell_100,target_size=image_shape)"
      ],
      "execution_count": null,
      "outputs": []
    },
    {
      "cell_type": "code",
      "metadata": {
        "colab": {
          "base_uri": "https://localhost:8080/",
          "height": 147
        },
        "id": "s_3iYDuJY2pD",
        "outputId": "fb9d6b20-fec9-45df-fc38-281d34f94917"
      },
      "source": [
        "my_image_1"
      ],
      "execution_count": null,
      "outputs": [
        {
          "output_type": "execute_result",
          "data": {
            "image/png": "[encoded data removed]",
            "text/plain": [
              "<PIL.Image.Image image mode=RGB size=130x130 at 0x7F06D012A350>"
            ]
          },
          "metadata": {
            "tags": []
          },
          "execution_count": 242
        }
      ]
    },
    {
      "cell_type": "code",
      "metadata": {
        "id": "jS8i4zLzY16m"
      },
      "source": [
        "my_image_1 = np.expand_dims(my_image_1, axis=0)"
      ],
      "execution_count": null,
      "outputs": []
    },
    {
      "cell_type": "code",
      "metadata": {
        "colab": {
          "base_uri": "https://localhost:8080/"
        },
        "id": "c_8uX0h6YkNV",
        "outputId": "7541576a-a2f7-4ba8-d7bc-c05770b769a0"
      },
      "source": [
        "model.predict(my_image_1)"
      ],
      "execution_count": null,
      "outputs": [
        {
          "output_type": "execute_result",
          "data": {
            "text/plain": [
              "array([[1.]], dtype=float32)"
            ]
          },
          "metadata": {
            "tags": []
          },
          "execution_count": 244
        }
      ]
    },
    {
      "cell_type": "markdown",
      "metadata": {
        "id": "vJasDeHPYyQ1"
      },
      "source": [
        "비감염자의 혈액세포 또한 모델이 올바르게 예측하고 있는걸 확인할 수 있습니다."
      ]
    },
    {
      "cell_type": "markdown",
      "metadata": {
        "id": "c7yhFpAqv59g"
      },
      "source": [
        "# requirements.txt 파일 만들기"
      ]
    },
    {
      "cell_type": "code",
      "metadata": {
        "id": "bMTYH2aOvpoF"
      },
      "source": [
        "!pip freeze > requirements.txt"
      ],
      "execution_count": null,
      "outputs": []
    }
  ]
}